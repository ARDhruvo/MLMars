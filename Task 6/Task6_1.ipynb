{
 "cells": [
  {
   "cell_type": "code",
   "execution_count": 1,
   "id": "2854db27-0254-4528-bf8d-0cec9a1652b8",
   "metadata": {},
   "outputs": [],
   "source": [
    "# Transpose A Matrix"
   ]
  },
  {
   "cell_type": "code",
   "execution_count": 2,
   "id": "8b014819-7740-4234-bcfa-aee54c58ccaf",
   "metadata": {
    "scrolled": true
   },
   "outputs": [],
   "source": [
    "import numpy as np"
   ]
  },
  {
   "cell_type": "code",
   "execution_count": 3,
   "id": "d757ce68-c025-4463-8544-f995e730ce77",
   "metadata": {},
   "outputs": [],
   "source": [
    "# Function Point"
   ]
  },
  {
   "cell_type": "code",
   "execution_count": 4,
   "id": "f60d99aa-4e3c-4288-96fb-1b341da3d732",
   "metadata": {},
   "outputs": [],
   "source": [
    "def transpose(a):\n",
    "    new_arr = np.empty(a.shape)\n",
    "    for i in range(a.shape[0]): # Row\n",
    "        for j in range(a.shape[1]): # Column\n",
    "            new_arr[j][i] = a[i][j]\n",
    "    print(f\"Transposed Array:\\n{new_arr}\")"
   ]
  },
  {
   "cell_type": "code",
   "execution_count": 5,
   "id": "de712c92-d6ae-4d7b-ae2e-9d66ff6cfb93",
   "metadata": {},
   "outputs": [],
   "source": [
    "# Execution Point"
   ]
  },
  {
   "cell_type": "code",
   "execution_count": 7,
   "id": "2b27a594-9449-4f7a-914d-4796ab41ad6c",
   "metadata": {},
   "outputs": [
    {
     "name": "stdout",
     "output_type": "stream",
     "text": [
      "Original array:\n",
      "[[11 55 99]\n",
      " [22 44 88]\n",
      " [33 77 66]]\n",
      "\n",
      "Transposed Array:\n",
      "[[11. 22. 33.]\n",
      " [55. 44. 77.]\n",
      " [99. 88. 66.]]\n"
     ]
    }
   ],
   "source": [
    "arr = np.array([\n",
    "    [11, 55, 99],\n",
    "[22, 44, 88],\n",
    "[33, 77, 66]\n",
    "])\n",
    "print(f\"Original array:\\n{arr}\\n\")\n",
    "\n",
    "transpose(arr)\n"
   ]
  },
  {
   "cell_type": "code",
   "execution_count": null,
   "id": "22ec1c71-1e2c-4d0e-a0d3-3b935f28beab",
   "metadata": {},
   "outputs": [],
   "source": []
  }
 ],
 "metadata": {
  "kernelspec": {
   "display_name": "Python 3 (ipykernel)",
   "language": "python",
   "name": "python3"
  },
  "language_info": {
   "codemirror_mode": {
    "name": "ipython",
    "version": 3
   },
   "file_extension": ".py",
   "mimetype": "text/x-python",
   "name": "python",
   "nbconvert_exporter": "python",
   "pygments_lexer": "ipython3",
   "version": "3.11.4"
  }
 },
 "nbformat": 4,
 "nbformat_minor": 5
}
