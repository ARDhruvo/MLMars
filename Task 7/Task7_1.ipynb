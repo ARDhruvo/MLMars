{
 "cells": [
  {
   "cell_type": "code",
   "execution_count": null,
   "id": "ec9d7c7d-0e72-4e3d-be25-8a6e92c768a1",
   "metadata": {},
   "outputs": [],
   "source": [
    "# Add two matrices containing the values 0 to 18 and 20 to 38 after reshaping"
   ]
  },
  {
   "cell_type": "code",
   "execution_count": 2,
   "id": "bdbb2c23-1e00-4e89-b4ac-4f9d357418af",
   "metadata": {},
   "outputs": [],
   "source": [
    "import numpy as np"
   ]
  },
  {
   "cell_type": "code",
   "execution_count": 3,
   "id": "b74f9cc1-461b-4106-bd73-1800eaba9e21",
   "metadata": {},
   "outputs": [],
   "source": [
    "# Execution Point"
   ]
  },
  {
   "cell_type": "code",
   "execution_count": 11,
   "id": "32829b1a-7693-4b7d-bc47-81103e286418",
   "metadata": {},
   "outputs": [
    {
     "data": {
      "text/plain": [
       "array([[20, 21, 22, 23, 24, 25],\n",
       "       [26, 27, 28, 29, 30, 31],\n",
       "       [32, 33, 34, 35, 36, 37]])"
      ]
     },
     "execution_count": 11,
     "metadata": {},
     "output_type": "execute_result"
    }
   ],
   "source": [
    "arr1 = np.arange(0, 18)\n",
    "arr2 = np.arange(20, 38)"
   ]
  },
  {
   "cell_type": "code",
   "execution_count": 14,
   "id": "22289669-95b6-4bbf-9b89-80589712e253",
   "metadata": {},
   "outputs": [
    {
     "data": {
      "text/plain": [
       "array([[20, 22, 24],\n",
       "       [26, 28, 30],\n",
       "       [32, 34, 36],\n",
       "       [38, 40, 42],\n",
       "       [44, 46, 48],\n",
       "       [50, 52, 54]])"
      ]
     },
     "execution_count": 14,
     "metadata": {},
     "output_type": "execute_result"
    }
   ],
   "source": [
    "sumArr = np.zeros(18, dtype = int)\n",
    "\n",
    "for i in range(arr1.size):\n",
    "    sumArr[i] = arr1[i] + arr2[i]\n",
    "\n",
    "sumArr.reshape(6, 3)"
   ]
  },
  {
   "cell_type": "code",
   "execution_count": null,
   "id": "e84dfa95-6a23-463b-b454-717d04df0bda",
   "metadata": {},
   "outputs": [],
   "source": []
  }
 ],
 "metadata": {
  "kernelspec": {
   "display_name": "Python 3 (ipykernel)",
   "language": "python",
   "name": "python3"
  },
  "language_info": {
   "codemirror_mode": {
    "name": "ipython",
    "version": 3
   },
   "file_extension": ".py",
   "mimetype": "text/x-python",
   "name": "python",
   "nbconvert_exporter": "python",
   "pygments_lexer": "ipython3",
   "version": "3.11.4"
  }
 },
 "nbformat": 4,
 "nbformat_minor": 5
}
